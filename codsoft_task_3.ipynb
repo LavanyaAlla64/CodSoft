{
  "cells": [
    {
      "cell_type": "markdown",
      "metadata": {
        "id": "view-in-github",
        "colab_type": "text"
      },
      "source": [
        "<a href=\"https://colab.research.google.com/github/LavanyaAlla64/CodSoft/blob/main/codsoft_task_3.ipynb\" target=\"_parent\"><img src=\"https://colab.research.google.com/assets/colab-badge.svg\" alt=\"Open In Colab\"/></a>"
      ]
    },
    {
      "cell_type": "code",
      "execution_count": null,
      "metadata": {
        "colab": {
          "background_save": true,
          "base_uri": "https://localhost:8080/"
        },
        "id": "siPw1KcUc4c8",
        "outputId": "b2000ca1-dbd6-46d0-cc38-6449008a322d"
      },
      "outputs": [
        {
          "name": "stdout",
          "output_type": "stream",
          "text": [
            "_______________\n",
            "| Welcome to this Password Generator |\n",
            "----------------------------------\n",
            "\n",
            "Your password must have at least 8 characters\n"
          ]
        }
      ],
      "source": [
        "import random\n",
        "import string\n",
        "def main():\n",
        "  print(\"_______________\")\n",
        "  print(\"| Welcome to this Password Generator |\")\n",
        "  print(\"----------------------------------\\n\")\n",
        "  try:\n",
        "    length = int(\n",
        "        input(\"how long do you want your password to be (minimum of 8 number)\")\n",
        "    )\n",
        "  except:\n",
        "    print(\"Input numbers only\")\n",
        "  password_length = 0\n",
        "  while password_length < length:\n",
        "    print(\"Your password must have at least 8 characters\")\n",
        "    password_length = getPasswordLength()\n",
        "  all_characters = getCharacters()\n",
        "  password = generatePassword(all_characters, password_length)\n",
        "  print(\"\\nYour password is: \" + password)\n",
        "  print(\"____________________\")\n",
        "  print(\"| Thanks for using the Password Generator |\")\n",
        "  print(\"-------------------------------------------\")\n",
        "\n",
        "def getPasswordLength():\n",
        "  password_length = int(input(\"\\nEnter the length of password: \"))\n",
        "  return password_length\n",
        "\n",
        "def getCharacters():\n",
        "  lower = string.ascii_lowercase\n",
        "  upper = string.ascii_uppercase\n",
        "  symbols = string.ascii_uppercase\n",
        "  num = string.digits\n",
        "  symbols = string.punctuation\n",
        "\n",
        "  all_characters + lower + upper + num + symbols\n",
        "  return all_characters\n",
        "\n",
        "def generatePassword(all_characters, password_length):\n",
        "  password = \"\".join(random.sample(all_characters, password_length))\n",
        "  return password\n",
        "\n",
        "main()\n"
      ]
    },
    {
      "cell_type": "code",
      "execution_count": null,
      "metadata": {
        "id": "mRDY4dLZhQSy"
      },
      "outputs": [],
      "source": []
    }
  ],
  "metadata": {
    "colab": {
      "provenance": [],
      "authorship_tag": "ABX9TyOQ9vJ+muLVawk/50IkPxyF",
      "include_colab_link": true
    },
    "kernelspec": {
      "display_name": "Python 3",
      "name": "python3"
    },
    "language_info": {
      "name": "python"
    }
  },
  "nbformat": 4,
  "nbformat_minor": 0
}